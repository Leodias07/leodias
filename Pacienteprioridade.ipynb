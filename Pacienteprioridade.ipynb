{
  "nbformat": 4,
  "nbformat_minor": 0,
  "metadata": {
    "colab": {
      "provenance": [],
      "authorship_tag": "ABX9TyPMHXZZSFqtiPgslHeMNmiw",
      "include_colab_link": true
    },
    "kernelspec": {
      "name": "python3",
      "display_name": "Python 3"
    },
    "language_info": {
      "name": "python"
    }
  },
  "cells": [
    {
      "cell_type": "markdown",
      "metadata": {
        "id": "view-in-github",
        "colab_type": "text"
      },
      "source": [
        "<a href=\"https://colab.research.google.com/github/Leodias07/leodias/blob/main/Pacienteprioridade.ipynb\" target=\"_parent\"><img src=\"https://colab.research.google.com/assets/colab-badge.svg\" alt=\"Open In Colab\"/></a>"
      ]
    },
    {
      "cell_type": "code",
      "execution_count": null,
      "metadata": {
        "id": "hZlgXCFTzBQ4"
      },
      "outputs": [],
      "source": [
        "nome=input(\"Digite o nome: \")\n",
        "idade=int(input(\"Digite a idade: \"))\n",
        "doenca_infectocontagiosa=input(\"Suspeita de doença infectocontagiosa? \").upper()\n",
        "\n",
        "# PRIMEIRO PROBLEMA A SER RESOLVIDO\n",
        "if doenca_infectocontagiosa==\"SIM\":\n",
        "    print(\"Encaminhe o paciente para sala AMARELA\")\n",
        "elif doenca_infectocontagiosa==\"NAO\":\n",
        "    print(\"Encaminhe o paciente para sala BRANCA\")\n",
        "else:\n",
        "    print(\"Responda a suspeita de doença infectocontagiosa com SIM ou NAO\")\n",
        "\n",
        "# SEGUNDO PROBLEMA A SER RESOLVIDO\n",
        "if idade >= 65:\n",
        "    print(\"Paciente COM prioridade\")\n",
        "else:\n",
        "    genero=input(\"Digite o gênero do paciente: \").upper()\n",
        "    if genero==\"FEMININO\" and idade>10:\n",
        "        gravidez=input(\"A paciente está gravida? \").upper()\n",
        "        if gravidez==\"SIM\":\n",
        "            print(\"Paciente COM prioridade\")\n",
        "    else:\n",
        "        print(\"Paciente SEM prioridade\")"
      ]
    }
  ]
}