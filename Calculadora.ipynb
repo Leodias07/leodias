{
  "nbformat": 4,
  "nbformat_minor": 0,
  "metadata": {
    "colab": {
      "provenance": [],
      "authorship_tag": "ABX9TyMJshdypF8fOfZfVWXv7YHV",
      "include_colab_link": true
    },
    "kernelspec": {
      "name": "python3",
      "display_name": "Python 3"
    },
    "language_info": {
      "name": "python"
    }
  },
  "cells": [
    {
      "cell_type": "markdown",
      "metadata": {
        "id": "view-in-github",
        "colab_type": "text"
      },
      "source": [
        "<a href=\"https://colab.research.google.com/github/Leodias07/leodias/blob/main/Calculadora.ipynb\" target=\"_parent\"><img src=\"https://colab.research.google.com/assets/colab-badge.svg\" alt=\"Open In Colab\"/></a>"
      ]
    },
    {
      "cell_type": "markdown",
      "source": [
        "#Calculadora\n"
      ],
      "metadata": {
        "id": "bBAYNkjSwLdG"
      }
    },
    {
      "cell_type": "code",
      "execution_count": null,
      "metadata": {
        "id": "PdOnaZVowJ3i"
      },
      "outputs": [],
      "source": [
        "numero1 = float(input('Digite o primeiro valor: ').replace(',','.'))\n",
        "numero2 = float(input('Digite o segundo valor: ').replace(',','.'))\n",
        "\n",
        "while True:\n",
        "  menu = int(input('''CALCULADORA MENU\n",
        "  1 - SOMAR\n",
        "  2 - MULTIPLICAR\n",
        "  3 - DIVIDIR\n",
        "  4 - SUBTRAIR\n",
        "  5 - NOVOS NUMEROS\n",
        "  6 - SAIR DO PROGRAMA\n",
        "  :'''))\n",
        "\n",
        "  if menu == 1:\n",
        "    soma = numero1 + numero2\n",
        "    print(f'\\n{numero1} + {numero2} = {soma:.2f}\\n')\n",
        "\n",
        "  elif menu == 2:\n",
        "    multiplicar = numero1 * numero2\n",
        "    print(f'\\n{numero1} X {numero2} = {multiplicar:.2f}\\n')\n",
        "\n",
        "  elif menu == 3:\n",
        "    dividir = numero1 / numero2\n",
        "    print(f'\\n{numero1} / {numero2} = {dividir:.2f}\\n')\n",
        "\n",
        "  elif menu == 4:\n",
        "    subtrair = numero1 - numero2\n",
        "    print(f'\\n{numero1} / {numero2} = {subtrair:.2f}\\n')\n",
        "\n",
        "  elif menu == 5:\n",
        "    numero1 = float(input('Digite o primeiro valor: ').replace(',','.'))\n",
        "    numero2 = float(input('Digite o segundo valor: ').replace(',','.'))\n",
        "\n",
        "  elif menu == 6:\n",
        "    break"
      ]
    }
  ]
}