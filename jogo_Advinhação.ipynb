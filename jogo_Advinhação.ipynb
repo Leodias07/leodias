{
  "nbformat": 4,
  "nbformat_minor": 0,
  "metadata": {
    "colab": {
      "provenance": [],
      "authorship_tag": "ABX9TyMPeYSDEwoxHyIjmLOVeiyQ",
      "include_colab_link": true
    },
    "kernelspec": {
      "name": "python3",
      "display_name": "Python 3"
    },
    "language_info": {
      "name": "python"
    }
  },
  "cells": [
    {
      "cell_type": "markdown",
      "metadata": {
        "id": "view-in-github",
        "colab_type": "text"
      },
      "source": [
        "<a href=\"https://colab.research.google.com/github/Leodias07/leodias/blob/main/jogo_Advinha%C3%A7%C3%A3o.ipynb\" target=\"_parent\"><img src=\"https://colab.research.google.com/assets/colab-badge.svg\" alt=\"Open In Colab\"/></a>"
      ]
    },
    {
      "cell_type": "markdown",
      "source": [
        "JOGO DE ADVINHAÇÃO"
      ],
      "metadata": {
        "id": "aj59hXISI3T_"
      }
    },
    {
      "cell_type": "code",
      "execution_count": null,
      "metadata": {
        "id": "2SDu5AIpIvyc"
      },
      "outputs": [],
      "source": [
        "import random as rd\n",
        "\n",
        "computador = rd.randint(0,10)\n",
        "contar = 0\n",
        "\n",
        "for i in range(5):\n",
        "  chute = abs(int(input('Digite um numero entre 0 e 10: ')))\n",
        "  contar += 1\n",
        "\n",
        "  if chute > 10:\n",
        "    contar -= 1\n",
        "    print(f'O número {chute} é \\033[0;31minvalido\\033[0m ,por favor chute um número entre 0 e 10')\n",
        "    continue\n",
        "\n",
        "  if chute > computador:\n",
        "    print(f'O numero {chute} é \\033[0;36mMAIOR\\033[0m que o pensado ')\n",
        "\n",
        "  elif chute < computador:\n",
        "    print(f'O numero {chute} é \\033[0;35mMENOR\\033[0m que o pensado ')\n",
        "\n",
        "  else:\n",
        "    break\n",
        "\n",
        "if chute == computador:\n",
        "  print(f'\\033[1;33mPARABES\\033[0m você acertou o número em apenas {contar} tentativas')\n",
        "\n",
        "else:\n",
        "  print(f'\\033[1;31mInfelizmente\\033[0m você errou, o número pensadora era {computador}')"
      ]
    }
  ]
}