{
  "nbformat": 4,
  "nbformat_minor": 0,
  "metadata": {
    "colab": {
      "provenance": [],
      "authorship_tag": "ABX9TyNYB413H34LH2XylyU5glNm",
      "include_colab_link": true
    },
    "kernelspec": {
      "name": "python3",
      "display_name": "Python 3"
    },
    "language_info": {
      "name": "python"
    }
  },
  "cells": [
    {
      "cell_type": "markdown",
      "metadata": {
        "id": "view-in-github",
        "colab_type": "text"
      },
      "source": [
        "<a href=\"https://colab.research.google.com/github/Leodias07/leodias/blob/main/CalculoIMC.ipynb\" target=\"_parent\"><img src=\"https://colab.research.google.com/assets/colab-badge.svg\" alt=\"Open In Colab\"/></a>"
      ]
    },
    {
      "cell_type": "code",
      "source": [
        "Calculo do IMC"
      ],
      "metadata": {
        "id": "0YL5d2m7lxEs"
      },
      "execution_count": null,
      "outputs": []
    },
    {
      "cell_type": "markdown",
      "source": [],
      "metadata": {
        "id": "OLAFloMklwdy"
      }
    },
    {
      "cell_type": "code",
      "execution_count": null,
      "metadata": {
        "id": "u_7hMGRZlryr"
      },
      "outputs": [],
      "source": [
        "altura = float(input('Digite sua altura: ').replace(',','.'))\n",
        "peso =   float(input('Digite o seu peso: ').replace(',','.'))\n",
        "idade =  int(input('Digite sua idade: '))\n",
        "imc = peso / altura**2\n",
        "\n",
        "if idade <= 15 and imc >= 30:\n",
        "  print(f\"Seu IMC {imc:.2f} e voce esta \\033[1;31mOBESIDADE INFANTIL\\033[0m\")\n",
        "\n",
        "\n",
        "elif imc < 18.5 :\n",
        "  print(f'Seu IMC {imc:.2f} e voce esta  \\033[0;37mMAGREZA\\033[0m ' )\n",
        "\n",
        "elif imc >= 18.5 and imc <= 24.9 :\n",
        "  print(f\"Seu IMC {imc:.2f} e voce esta \\033[0;32mNORMAL\\033[0m\")\n",
        "\n",
        "elif imc >= 25 and imc <= 29.9 :\n",
        "  print(f'Seu IMC {imc:.2f} e voce esta \\033[0;30mSOBREPESO\\033[0m')\n",
        "\n",
        "elif imc >= 30 and imc <= 34.9 :\n",
        "  print(f'Seu IMC {imc:.2f} e voce esta  \\033[0;35;31mOBESIDADE GRAU1\\033[0m')\n",
        "\n",
        "elif imc >= 35 and imc <= 39.9 :\n",
        "  print(f'Seu IMC {imc:.2f} e voce esta  \\033[0;36;31mOBESIDADE GRAU2\\033[0m')\n",
        "\n",
        "\n",
        "else :\n",
        "  print(f'Seu IMC {imc:.2f} e voce esta  \\033[0;31;31mOBESIDADE GRAU3\\033[0m')"
      ]
    }
  ]
}