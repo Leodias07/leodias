{
  "nbformat": 4,
  "nbformat_minor": 0,
  "metadata": {
    "colab": {
      "provenance": [],
      "authorship_tag": "ABX9TyN2B4O2DaPoZKoNThnuZGnn",
      "include_colab_link": true
    },
    "kernelspec": {
      "name": "python3",
      "display_name": "Python 3"
    },
    "language_info": {
      "name": "python"
    }
  },
  "cells": [
    {
      "cell_type": "markdown",
      "metadata": {
        "id": "view-in-github",
        "colab_type": "text"
      },
      "source": [
        "<a href=\"https://colab.research.google.com/github/Leodias07/leodias/blob/main/Cadastro_senha.ipynb\" target=\"_parent\"><img src=\"https://colab.research.google.com/assets/colab-badge.svg\" alt=\"Open In Colab\"/></a>"
      ]
    },
    {
      "cell_type": "markdown",
      "source": [
        "#Cadastro Senha\n",
        "\n",
        "Crie um programa onde o nosso usuario vai cadastrar uma senha mas ela tem que ter alguns requisitos\n",
        "\n",
        "Ter no mínimo 8 caracteres\n",
        "\n",
        "Ter no minimo 1 letra maiuscula\n",
        "\n",
        "Ter no minimo 1 letra minuscula\n",
        "\n",
        "Ter no minimo 1 número\n",
        "\n",
        "Ter no minimo 1 caracter especial"
      ],
      "metadata": {
        "id": "4qUuACUTvvdu"
      }
    },
    {
      "cell_type": "code",
      "execution_count": null,
      "metadata": {
        "id": "8WMxfE52vtmC"
      },
      "outputs": [],
      "source": [
        "while True:\n",
        "  senha = str(input('Digite sua senha para ser cadastrada: '))\n",
        "\n",
        "  if len(senha) < 8:\n",
        "    print('A sua senha tem menos que 8 caracteres')\n",
        "    continue\n",
        "\n",
        "  elif senha.islower():\n",
        "    print('A sua senha tem que ter pelo menos uma letra MAIUSCULA')\n",
        "    continue\n",
        "\n",
        "  elif senha.isupper():\n",
        "    print('A sua senha tem que ter pelo menos uma letra MINUSCULA')\n",
        "    continue\n",
        "\n",
        "  elif senha.isalpha():\n",
        "    print('A sua senha tem que ter pelo menos um NUMERO')\n",
        "    continue\n",
        "\n",
        "  elif senha.isalnum():\n",
        "    print('A sua senha tem que ter pelo menos um CARACTER ESPECIAL')\n",
        "    continue\n",
        "\n",
        "  print('SENHA CADASTRADA COM SUCESSO')\n",
        "  break"
      ]
    }
  ]
}